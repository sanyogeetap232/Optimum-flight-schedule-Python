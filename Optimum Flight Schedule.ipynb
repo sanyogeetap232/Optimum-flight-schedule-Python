{
 "cells": [
  {
   "cell_type": "code",
   "execution_count": null,
   "metadata": {
    "collapsed": true
   },
   "outputs": [],
   "source": [
    "#itemgetter for fetching the nth element, copy is used to store contains of one list into another list\n",
    "import copy\n",
    "from operator import itemgetter"
   ]
  },
  {
   "cell_type": "code",
   "execution_count": null,
   "metadata": {},
   "outputs": [],
   "source": [
    "# Initialising the list with the first flight from each source\n",
    "Aircraft_tails=[['T1','DAL_1','HOU_1',360,425],\n",
    "                ['T2','DAL_2','HOU_2',360,425],\n",
    "                ['T3','AUS_1','HOU_3',360,405],\n",
    "                ['T4','HOU_3','AUS_1',360,405],\n",
    "                ['T5','HOU_1','DAL_1',360,425],\n",
    "                ['T6','HOU_2','DAL_1',360,425]]\n",
    "\n",
    "Aircraft_tails"
   ]
  },
  {
   "cell_type": "code",
   "execution_count": null,
   "metadata": {
    "collapsed": true
   },
   "outputs": [],
   "source": [
    "# Stroing the minimum groud time at each airport in a list called Ground\n",
    "Ground= {'AUS':25,'DAL':30,'HOU':35}\n",
    "\n",
    "#Ground"
   ]
  },
  {
   "cell_type": "code",
   "execution_count": null,
   "metadata": {
    "collapsed": true
   },
   "outputs": [],
   "source": [
    "# Storing the fly time from each location to another location in Commute\n",
    "Commute={'AUSDAL':50,'AUSHOU':45,'DALHOU':65}\n",
    "\n",
    "#Commute"
   ]
  },
  {
   "cell_type": "code",
   "execution_count": null,
   "metadata": {
    "collapsed": true
   },
   "outputs": [],
   "source": [
    "Aircraft_tail=Aircraft_tails\n",
    "\n",
    "#Aircraft_tail"
   ]
  },
  {
   "cell_type": "code",
   "execution_count": null,
   "metadata": {},
   "outputs": [],
   "source": [
    "# Adding ground time \n",
    "for i in range(len(Aircraft_tails)):\n",
    "        if Aircraft_tails[i][2]=='DAL1':\n",
    "            Aircraft_tail[i][4]=Aircraft_tails[i][4]+Ground['DAL']\n",
    "        elif Aircraft_tails[i][2]=='DAL2':\n",
    "            Aircraft_tail[i][4]=Aircraft_tails[i][4]+Ground['DAL']        \n",
    "        elif Aircraft_tails[i][2]=='HOU1':\n",
    "            Aircraft_tail[i][4]=Aircraft_tails[i][4]+Ground['HOU']\n",
    "        elif Aircraft_tails[i][2]=='HOU2':\n",
    "            Aircraft_tail[i][4]=Aircraft_tails[i][4]+Ground['HOU']\n",
    "        elif Aircraft_tails[i][2]=='HOU3':\n",
    "            Aircraft_tail[i][4]=Aircraft_tails[i][4]+Ground['HOU']\n",
    "        elif Aircraft_tails[i][2]=='AUS1':\n",
    "            Aircraft_tail[i][4]=Aircraft_tails[i][4]+Ground['AUS']\n",
    "Aircraft_tail "
   ]
  },
  {
   "cell_type": "code",
   "execution_count": null,
   "metadata": {},
   "outputs": [],
   "source": [
    "def Military(number):\n",
    "    hour,minutes=divmod(number,60)\n",
    "    if len(str(hour))==1:\n",
    "        hour='{0:02d}'.format(hour)\n",
    "    if len(str(minutes))==1:\n",
    "        minutes=str(minutes).rjust(2,'0')\n",
    "    Military_time=str(hour)+str(minutes)\n",
    "    return Military_time "
   ]
  },
  {
   "cell_type": "code",
   "execution_count": null,
   "metadata": {
    "collapsed": true
   },
   "outputs": [],
   "source": [
    "# Sorting after adding ground time so that we can get maximum flights\n",
    "Sorted_tails = sorted(Aircraft_tail, key=itemgetter(4))\n",
    "# here we can see that T3 and T4 are with least time\n",
    "#Sorted_tails"
   ]
  },
  {
   "cell_type": "code",
   "execution_count": null,
   "metadata": {},
   "outputs": [],
   "source": [
    "#Creating a new data frame which will store the Sorted_tails\n",
    "Optimum_tails=[]\n",
    "final_schedule=Sorted_tails\n",
    "\n",
    "while True:\n",
    "    X = copy.deepcopy(Sorted_tails)\n",
    "    \n",
    "    X[0][1]=Sorted_tails[0][2]\n",
    "    Y = X[0][2]\n",
    "    X[0][2]=Sorted_tails[1][2]\n",
    "\n",
    "    X[1][2]=Y\n",
    "    X[1][1]=Sorted_tails[1][2]\n",
    "\n",
    "    X[2][1]=Sorted_tails[2][2]\n",
    "    Y = X[2][2]\n",
    "    X[2][2]=Sorted_tails[4][2]\n",
    "\n",
    "    X[4][2]=Y\n",
    "    X[4][1]=Sorted_tails[4][2]\n",
    "\n",
    "    X[3][1]=Sorted_tails[3][2]\n",
    "    Y = X[3][2]\n",
    "    X[3][2]=Sorted_tails[5][2]\n",
    "\n",
    "    X[5][2]=Y\n",
    "    X[5][1]=Sorted_tails[5][2]\n",
    "\n",
    "\n",
    "    Aircraft_tails=X\n",
    "    for i in range(len(X)):\n",
    "        Aircraft_tails[i][3]=X[i][4]\n",
    "    Aircraft_tail=Aircraft_tails\n",
    "\n",
    "    for i in range(len(X)):\n",
    "            if Aircraft_tails[i][2][0:3]=='DAL':\n",
    "                if Aircraft_tails[i][1][0:3]=='HOU':\n",
    "                    Aircraft_tail[i][4]=Aircraft_tails[i][4]+Ground['DAL']+Commute['DALHOU']\n",
    "                else:\n",
    "                    Aircraft_tail[i][4]=Aircraft_tails[i][4]+Ground['DAL']+Commute['AUSDAL']\n",
    "            elif Aircraft_tails[i][2][0:3]=='HOU':\n",
    "                if Aircraft_tails[i][1][0:3]=='DAL':\n",
    "                    Aircraft_tail[i][4]=Aircraft_tails[i][4]+Ground['HOU']+Commute['DALHOU']\n",
    "                else:\n",
    "                    Aircraft_tail[i][4]=Aircraft_tails[i][4]+Ground['HOU']+Commute['AUSHOU']\n",
    "            elif Aircraft_tails[i][2][0:3]=='AUS':\n",
    "                if Aircraft_tails[i][1][0:3]=='DAL':\n",
    "                    Aircraft_tail[i][4]=Aircraft_tails[i][4]+Ground['AUS']+Commute['AUSDAL']\n",
    "                else:\n",
    "                    Aircraft_tail[i][4]=Aircraft_tails[i][4]+Ground['AUS']+Commute['AUSHOU']\n",
    "\n",
    "\n",
    "    Sorted_tails = sorted(Aircraft_tail, key=itemgetter(4))\n",
    "    if(Sorted_tails[5][4]>1320):\n",
    "        break\n",
    "    else:\n",
    "        print(Sorted_tails)\n",
    "        Optimum_tails = Optimum_tails + Sorted_tails\n",
    "#Optimum_tails\n",
    "#len(Optimum_tails)"
   ]
  },
  {
   "cell_type": "code",
   "execution_count": null,
   "metadata": {
    "collapsed": true
   },
   "outputs": [],
   "source": [
    "for i in Optimum_tails:\n",
    "    i[3] = Military(i[3])\n",
    "    i[4] = Military(i[4])\n",
    "#print(Optimum_tails)\n",
    "#len(Optimum_tails)"
   ]
  },
  {
   "cell_type": "code",
   "execution_count": null,
   "metadata": {},
   "outputs": [],
   "source": [
    "#Optimum_tails"
   ]
  },
  {
   "cell_type": "code",
   "execution_count": null,
   "metadata": {
    "collapsed": true
   },
   "outputs": [],
   "source": [
    "csv_header = 'tail_number,origin,destination,departure_time,arrival_time'\n",
    "file_name = 'flight_schedule.csv'\n",
    "def Optimum_flights(fn, csv_hdr, Optimum_tails):\n",
    "    with open(fn,'wt') as f:\n",
    "        print(csv_hdr, file=f)\n",
    "        for s in Optimum_tails:\n",
    "            print(','.join(s), file=f)\n",
    "Optimum_flights(file_name, csv_header, Optimum_tails)"
   ]
  }
 ],
 "metadata": {
  "kernelspec": {
   "display_name": "Python 3",
   "language": "python",
   "name": "python3"
  },
  "language_info": {
   "codemirror_mode": {
    "name": "ipython",
    "version": 3
   },
   "file_extension": ".py",
   "mimetype": "text/x-python",
   "name": "python",
   "nbconvert_exporter": "python",
   "pygments_lexer": "ipython3",
   "version": "3.6.1"
  }
 },
 "nbformat": 4,
 "nbformat_minor": 2
}
